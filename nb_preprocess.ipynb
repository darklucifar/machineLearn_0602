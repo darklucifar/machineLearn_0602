{
  "nbformat": 4,
  "nbformat_minor": 0,
  "metadata": {
    "colab": {
      "name": "nb_preprocess.ipynb",
      "provenance": [],
      "collapsed_sections": [],
      "authorship_tag": "ABX9TyMPw9xKdnII1ANKa865u775",
      "include_colab_link": true
    },
    "kernelspec": {
      "name": "python3",
      "display_name": "Python 3"
    },
    "language_info": {
      "name": "python"
    }
  },
  "cells": [
    {
      "cell_type": "markdown",
      "metadata": {
        "id": "view-in-github",
        "colab_type": "text"
      },
      "source": [
        "<a href=\"https://colab.research.google.com/github/darklucifar/machineLearn_0602/blob/main/nb_preprocess.ipynb\" target=\"_parent\"><img src=\"https://colab.research.google.com/assets/colab-badge.svg\" alt=\"Open In Colab\"/></a>"
      ]
    },
    {
      "cell_type": "code",
      "metadata": {
        "id": "1Rq4d3wrXTat",
        "colab": {
          "base_uri": "https://localhost:8080/"
        },
        "outputId": "2c03691f-7722-41cb-f409-d47244278149"
      },
      "source": [
        "!pip install opencc-python-reimplemented\n",
        "#簡繁轉換套件"
      ],
      "execution_count": null,
      "outputs": [
        {
          "output_type": "stream",
          "text": [
            "Collecting opencc-python-reimplemented\n",
            "\u001b[?25l  Downloading https://files.pythonhosted.org/packages/04/aa/02c5ffc87e2bf1da1f476d35aa4de69cad2cfc3140e37114755c454d1231/opencc-python-reimplemented-0.1.6.tar.gz (484kB)\n",
            "\u001b[K     |████████████████████████████████| 491kB 3.2MB/s \n",
            "\u001b[?25hBuilding wheels for collected packages: opencc-python-reimplemented\n",
            "  Building wheel for opencc-python-reimplemented (setup.py) ... \u001b[?25l\u001b[?25hdone\n",
            "  Created wheel for opencc-python-reimplemented: filename=opencc_python_reimplemented-0.1.6-py2.py3-none-any.whl size=486151 sha256=62727a00ad899cdff86877890ccc2991a2b8f655dc19a5029475ba4071f8f48e\n",
            "  Stored in directory: /root/.cache/pip/wheels/54/8a/0f/405db0ba3f02d9af8211422d3ae94c47b3296256f168ac1e68\n",
            "Successfully built opencc-python-reimplemented\n",
            "Installing collected packages: opencc-python-reimplemented\n",
            "Successfully installed opencc-python-reimplemented-0.1.6\n"
          ],
          "name": "stdout"
        }
      ]
    },
    {
      "cell_type": "code",
      "metadata": {
        "id": "2eePtvg4YYvg"
      },
      "source": [
        "to_convert = \"\"\"训练词向量等一些任务的时候，往往需要一些较大规模的中文语料，而维基百科语料是一个很好的选择。维基百科每段时间都会备份数据，我们可以选择不同时间段的语料来下载使用。​\n",
        "\n",
        "1.下载维基百科语料\n",
        "下面就是维基百科的语料的下载地址：\"\"\""
      ],
      "execution_count": null,
      "outputs": []
    },
    {
      "cell_type": "code",
      "metadata": {
        "colab": {
          "base_uri": "https://localhost:8080/",
          "height": 52
        },
        "id": "dyhaBPHrYttJ",
        "outputId": "0ff7ac5d-42aa-4915-87cb-3ec184261ccf"
      },
      "source": [
        "from opencc import OpenCC\n",
        "cc = OpenCC('s2tw')\n",
        "converted = cc.convert(to_convert)\n",
        "converted"
      ],
      "execution_count": null,
      "outputs": [
        {
          "output_type": "execute_result",
          "data": {
            "application/vnd.google.colaboratory.intrinsic+json": {
              "type": "string"
            },
            "text/plain": [
              "'訓練詞向量等一些任務的時候，往往需要一些較大規模的中文語料，而維基百科語料是一個很好的選擇。維基百科每段時間都會備份數據，我們可以選擇不同時間段的語料來下載使用。\\u200b\\n\\n1.下載維基百科語料\\n下面就是維基百科的語料的下載地址：'"
            ]
          },
          "metadata": {
            "tags": []
          },
          "execution_count": 6
        }
      ]
    },
    {
      "cell_type": "code",
      "metadata": {
        "colab": {
          "base_uri": "https://localhost:8080/",
          "height": 102
        },
        "id": "D_Tn2MyDjpwV",
        "outputId": "19565d1b-0066-4d4c-dd94-0865282c6258"
      },
      "source": [
        "with open(\"./news.txt\", \"r\", encoding=\"utf-8\") as f:\n",
        "    content = f.read()\n",
        "content"
      ],
      "execution_count": null,
      "outputs": [
        {
          "output_type": "execute_result",
          "data": {
            "application/vnd.google.colaboratory.intrinsic+json": {
              "type": "string"
            },
            "text/plain": [
              "'中央於昨日開始陸續配發莫德納疫苗，新北市衛生局長陳潤秋表示，新北在此波獲得9800劑，昨日先到5700劑，後面將再補4100劑，接種對象為17間專責醫院中的第一線工作人員，今天將開始施打。\\n\\n首批15萬劑莫德納疫苗昨日率續配送到各縣市，預計今日將開始施打，重災區新北市獲得9800劑，第一批到貨5700劑，中央後面還會陸續配發。\\n\\n新北市衛生局表示，此次莫德納的接種對象為新冠肺炎專責醫院直接照顧確診/疑似個案第一線工作人員(風險等級 1)及非直接照顧確診/疑似個案之第一線工作人員(風險等級 2)，若有多餘的量，市府也會視情況逐步放寬至所有第一類醫事及非醫事等工作人員接種，此次接種將會由醫院內直接安排。'"
            ]
          },
          "metadata": {
            "tags": []
          },
          "execution_count": 10
        }
      ]
    },
    {
      "cell_type": "code",
      "metadata": {
        "colab": {
          "base_uri": "https://localhost:8080/"
        },
        "id": "FHYNLIdEj3cO",
        "outputId": "000e4071-8111-4bab-c88b-e3d1c48cca6c"
      },
      "source": [
        "import jieba.analyse\n",
        "# topK:None (全部列出, 高到低)\n",
        "print(jieba.analyse.extract_tags(content))\n",
        "print(jieba.analyse.extract_tags(content, topK=5, allowPOS=[\"ns\", \"nr\"]))\n",
        "##topK 為返回幾個TF/IDF 權重最大的關鍵詞，默認值為20"
      ],
      "execution_count": null,
      "outputs": [
        {
          "output_type": "stream",
          "text": [
            "['接種', '人員', '莫德納', '新北市', '陸續', '配發', '獲得', '9800', '5700', '對象', '將開', '始施', '醫院', '照顧', '確診', '個案', '風險', '等級', '第一', '疑似']\n",
            "['莫德納', '新北市', '陳潤秋', '新北']\n"
          ],
          "name": "stdout"
        }
      ]
    },
    {
      "cell_type": "code",
      "metadata": {
        "colab": {
          "base_uri": "https://localhost:8080/"
        },
        "id": "SL-FETrSr9yt",
        "outputId": "e066f79e-c486-46dc-a72a-1ad5dbc5a39a"
      },
      "source": [
        "import jieba\n",
        "from urllib.request import urlretrieve\n",
        "url = \"https://github.com/fxsjy/jieba/raw/master/extra_dict/dict.txt.big\"\n",
        "urlretrieve(url, \"dict.txt.big\")##下載url，存成\"dict.txt.big\">>下載大辭典"
      ],
      "execution_count": null,
      "outputs": [
        {
          "output_type": "execute_result",
          "data": {
            "text/plain": [
              "('dict.txt.big', <http.client.HTTPMessage at 0x7fdfada8a590>)"
            ]
          },
          "metadata": {
            "tags": []
          },
          "execution_count": 12
        }
      ]
    },
    {
      "cell_type": "code",
      "metadata": {
        "colab": {
          "base_uri": "https://localhost:8080/"
        },
        "id": "dbOSjy_vtSg8",
        "outputId": "ebac5c97-82ca-41ff-faf3-5837165d68ff"
      },
      "source": [
        "c = \" \".join(jieba.cut(content))##用空格分割\n",
        "print(c)\n",
        "print(\"-\" * 30)#print(\"------------------------------\")\n",
        "jieba.set_dictionary(\"dict.txt.big\")##設定下載的基本大辭典\n",
        "c = \" \".join(jieba.cut(content))\n",
        "print(c)"
      ],
      "execution_count": null,
      "outputs": [
        {
          "output_type": "stream",
          "text": [
            "Building prefix dict from /content/dict.txt.big ...\n"
          ],
          "name": "stderr"
        },
        {
          "output_type": "stream",
          "text": [
            "中央 於 昨日 開始 陸續 配發 莫德納 疫苗 ， 新北市 衛生 局長 陳 潤秋 表示 ， 新北 在 此波 獲得 9800 劑 ， 昨日 先到 5700 劑 ， 後 面將 再 補 4100 劑 ， 接種 對象 為 17 間 專責醫 院中 的 第一 線 工作 人員 ， 今天 將開 始施 打 。 \n",
            " \n",
            " 首批 15 萬劑 莫德納 疫苗 昨日 率續 配送 到 各縣 市 ， 預計 今日 將開 始施 打 ， 重災區 新北市 獲得 9800 劑 ， 第一批 到貨 5700 劑 ， 中央 後 面 還會 陸續 配發 。 \n",
            " \n",
            " 新北市 衛生局 表示 ， 此次 莫德納 的 接種 對象 為 新冠 肺炎 專責 醫院 直接 照顧 確診 / 疑似 個案 第一 線 工作 人員 ( 風險 等級   1 ) 及 非 直接 照顧 確診 / 疑似 個案 之 第一 線 工作 人員 ( 風險 等級   2 ) ， 若有 多餘 的 量 ， 市府 也 會視 情況 逐步 放寬 至 所有 第一 類醫事 及 非 醫事 等 工作 人員 接種 ， 此次 接種 將會 由 醫院 內 直接 安排 。\n",
            "------------------------------\n"
          ],
          "name": "stdout"
        },
        {
          "output_type": "stream",
          "text": [
            "Dumping model to file cache /tmp/jieba.u501edca284da514cb68b53a20324f4e3.cache\n",
            "Loading model cost 1.746 seconds.\n",
            "Prefix dict has been built successfully.\n"
          ],
          "name": "stderr"
        },
        {
          "output_type": "stream",
          "text": [
            "中央 於 昨日 開始 陸續 配發 莫 德納 疫苗 ， 新北市 衛生局長 陳 潤秋 表示 ， 新北 在 此波 獲得 9800 劑 ， 昨日 先到 5700 劑 ， 後面 將 再補 4100 劑 ， 接種 對象 為 17 間 專責 醫院 中 的 第一線 工作人員 ， 今 天將 開始 施打 。 \n",
            " \n",
            " 首批 15 萬劑 莫 德納 疫苗 昨日 率續 配送 到 各縣市 ， 預計 今日 將 開始 施打 ， 重災區 新北市 獲得 9800 劑 ， 第一批 到貨 5700 劑 ， 中央 後面 還會 陸續 配發 。 \n",
            " \n",
            " 新北市 衛生局 表示 ， 此次 莫 德納 的 接種 對象 為 新冠 肺炎 專責 醫院 直接 照顧 確診 / 疑似 個案 第一線 工作人員 ( 風險 等級   1 ) 及 非 直接 照顧 確診 / 疑似 個案 之 第一線 工作人員 ( 風險 等級   2 ) ， 若有 多餘 的 量 ， 市府 也 會視 情況 逐步 放寬 至 所有 第一類 醫事 及 非 醫事 等 工作人員 接種 ， 此次 接種 將會 由 醫院 內 直接 安排 。\n"
          ],
          "name": "stdout"
        }
      ]
    },
    {
      "cell_type": "code",
      "metadata": {
        "colab": {
          "base_uri": "https://localhost:8080/"
        },
        "id": "BPCDLpOFtcG-",
        "outputId": "a30f7673-717c-4c0b-f1e6-0d0ad24d3d22"
      },
      "source": [
        "jieba.load_userdict(\"mydict.txt\")##載入自定義辭典\n",
        "c = \" \".join(jieba.cut(content))\n",
        "print(c)"
      ],
      "execution_count": null,
      "outputs": [
        {
          "output_type": "stream",
          "text": [
            "中央 於 昨日 開始 陸續 配發 莫德納 疫苗 ， 新北市 衛生局長 陳 潤秋 表示 ， 新北 在 此波 獲得 9800 劑 ， 昨日 先到 5700 劑 ， 後面 將 再補 4100 劑 ， 接種 對象 為 17 間 專責 醫院 中 的 第一線 工作人員 ， 今 天將 開始 施打 。 \n",
            " \n",
            " 首批 15 萬劑 莫德納 疫苗 昨日 率續 配送 到 各縣市 ， 預計 今日 將 開始 施打 ， 重災區 新北市 獲得 9800 劑 ， 第一批 到貨 5700 劑 ， 中央 後面 還會 陸續 配發 。 \n",
            " \n",
            " 新北市 衛生局 表示 ， 此次 莫德納 的 接種 對象 為 新冠 肺炎 專責 醫院 直接 照顧 確診 / 疑似 個案 第一線 工作人員 ( 風險 等級   1 ) 及 非 直接 照顧 確診 / 疑似 個案 之 第一線 工作人員 ( 風險 等級   2 ) ， 若有 多餘 的 量 ， 市府 也 會視 情況 逐步 放寬 至 所有 第一類 醫事 及 非 醫事 等 工作人員 接種 ， 此次 接種 將會 由 醫院 內 直接 安排 。\n"
          ],
          "name": "stdout"
        }
      ]
    },
    {
      "cell_type": "code",
      "metadata": {
        "colab": {
          "base_uri": "https://localhost:8080/"
        },
        "id": "tA2Cgwxvtfr5",
        "outputId": "bf0b971c-019a-47f0-aaf6-bf0281202080"
      },
      "source": [
        "print(jieba.analyse.extract_tags(content))"
      ],
      "execution_count": null,
      "outputs": [
        {
          "output_type": "stream",
          "text": [
            "['接種', '工作人員', '開始', '莫德納', '新北市', '醫院', '第一線', '陸續', '配發', '獲得', '9800', '5700', '後面', '對象', '專責', '施打', '照顧', '確診', '個案', '風險']\n"
          ],
          "name": "stdout"
        }
      ]
    }
  ]
}