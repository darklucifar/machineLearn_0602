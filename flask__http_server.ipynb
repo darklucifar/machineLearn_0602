{
  "nbformat": 4,
  "nbformat_minor": 0,
  "metadata": {
    "colab": {
      "name": "flask__http_server.ipynb",
      "provenance": [],
      "collapsed_sections": [],
      "include_colab_link": true
    },
    "kernelspec": {
      "name": "python3",
      "display_name": "Python 3"
    },
    "language_info": {
      "name": "python"
    }
  },
  "cells": [
    {
      "cell_type": "markdown",
      "metadata": {
        "id": "view-in-github",
        "colab_type": "text"
      },
      "source": [
        "<a href=\"https://colab.research.google.com/github/darklucifar/machineLearn_0602/blob/main/flask__http_server.ipynb\" target=\"_parent\"><img src=\"https://colab.research.google.com/assets/colab-badge.svg\" alt=\"Open In Colab\"/></a>"
      ]
    },
    {
      "cell_type": "code",
      "metadata": {
        "id": "U85Z3ulL2ME1",
        "colab": {
          "base_uri": "https://localhost:8080/"
        },
        "outputId": "5fa65d4c-d76d-4c2b-bbdc-1dda3f76df40"
      },
      "source": [
        "!pip install line-bot-sdk flask-ngrok"
      ],
      "execution_count": null,
      "outputs": [
        {
          "output_type": "stream",
          "text": [
            "Collecting line-bot-sdk\n",
            "  Downloading line_bot_sdk-1.19.0-py2.py3-none-any.whl (68 kB)\n",
            "\u001b[?25l\r\u001b[K     |████▉                           | 10 kB 23.4 MB/s eta 0:00:01\r\u001b[K     |█████████▋                      | 20 kB 30.6 MB/s eta 0:00:01\r\u001b[K     |██████████████▍                 | 30 kB 36.7 MB/s eta 0:00:01\r\u001b[K     |███████████████████▏            | 40 kB 36.2 MB/s eta 0:00:01\r\u001b[K     |████████████████████████        | 51 kB 37.3 MB/s eta 0:00:01\r\u001b[K     |████████████████████████████▊   | 61 kB 30.0 MB/s eta 0:00:01\r\u001b[K     |████████████████████████████████| 68 kB 6.4 MB/s \n",
            "\u001b[?25hCollecting flask-ngrok\n",
            "  Downloading flask_ngrok-0.0.25-py3-none-any.whl (3.1 kB)\n",
            "Requirement already satisfied: requests>=2.0 in /usr/local/lib/python3.7/dist-packages (from line-bot-sdk) (2.23.0)\n",
            "Requirement already satisfied: future in /usr/local/lib/python3.7/dist-packages (from line-bot-sdk) (0.16.0)\n",
            "Requirement already satisfied: chardet<4,>=3.0.2 in /usr/local/lib/python3.7/dist-packages (from requests>=2.0->line-bot-sdk) (3.0.4)\n",
            "Requirement already satisfied: certifi>=2017.4.17 in /usr/local/lib/python3.7/dist-packages (from requests>=2.0->line-bot-sdk) (2021.5.30)\n",
            "Requirement already satisfied: idna<3,>=2.5 in /usr/local/lib/python3.7/dist-packages (from requests>=2.0->line-bot-sdk) (2.10)\n",
            "Requirement already satisfied: urllib3!=1.25.0,!=1.25.1,<1.26,>=1.21.1 in /usr/local/lib/python3.7/dist-packages (from requests>=2.0->line-bot-sdk) (1.24.3)\n",
            "Requirement already satisfied: Flask>=0.8 in /usr/local/lib/python3.7/dist-packages (from flask-ngrok) (1.1.4)\n",
            "Requirement already satisfied: itsdangerous<2.0,>=0.24 in /usr/local/lib/python3.7/dist-packages (from Flask>=0.8->flask-ngrok) (1.1.0)\n",
            "Requirement already satisfied: Jinja2<3.0,>=2.10.1 in /usr/local/lib/python3.7/dist-packages (from Flask>=0.8->flask-ngrok) (2.11.3)\n",
            "Requirement already satisfied: Werkzeug<2.0,>=0.15 in /usr/local/lib/python3.7/dist-packages (from Flask>=0.8->flask-ngrok) (1.0.1)\n",
            "Requirement already satisfied: click<8.0,>=5.1 in /usr/local/lib/python3.7/dist-packages (from Flask>=0.8->flask-ngrok) (7.1.2)\n",
            "Requirement already satisfied: MarkupSafe>=0.23 in /usr/local/lib/python3.7/dist-packages (from Jinja2<3.0,>=2.10.1->Flask>=0.8->flask-ngrok) (2.0.1)\n",
            "Installing collected packages: line-bot-sdk, flask-ngrok\n",
            "Successfully installed flask-ngrok-0.0.25 line-bot-sdk-1.19.0\n"
          ],
          "name": "stdout"
        }
      ]
    },
    {
      "cell_type": "code",
      "metadata": {
        "id": "ADGQFFni2Vyg"
      },
      "source": [
        "from flask import Flask, request, abort, jsonify\n",
        "\n",
        "import json\n",
        "\n",
        "#外部連結自動生成套件\n",
        "from flask_ngrok import run_with_ngrok"
      ],
      "execution_count": null,
      "outputs": []
    },
    {
      "cell_type": "code",
      "metadata": {
        "id": "RHNbG-062yd3"
      },
      "source": [
        "#設定Server啟用細節\n",
        "#Flask做http server的套件\n",
        "#如果找的到照片，可以建一個material資料夾，把圖片放入\n",
        "app = Flask(__name__,static_url_path=\"/materal\",static_folder=\"./material/\")\n",
        "\n",
        "#臨時生成一個https的url，開發的時候用，建議開發的時候，不需要這一句\n",
        "run_with_ngrok(app)"
      ],
      "execution_count": null,
      "outputs": []
    },
    {
      "cell_type": "code",
      "metadata": {
        "id": "M3Dsdsng36wf"
      },
      "source": [
        "#為主程序創造多個API接口，外面封包來的時候轉流到這裡\n",
        "@app.route(\"/\",methods=['GET'])\n",
        "def callback():\n",
        "\n",
        "  return 'hello world'"
      ],
      "execution_count": null,
      "outputs": []
    },
    {
      "cell_type": "code",
      "metadata": {
        "id": "v1H9UpFD4fOf"
      },
      "source": [
        "#第二支接口啟動主程序的API接口，其他功能"
      ],
      "execution_count": null,
      "outputs": []
    },
    {
      "cell_type": "code",
      "metadata": {
        "colab": {
          "base_uri": "https://localhost:8080/"
        },
        "id": "hTDBYn9n42xO",
        "outputId": "6df94878-b36d-4d21-ca80-5c9e8bed0469"
      },
      "source": [
        "#運行Http application\n",
        "#會持續運行，要預載的方法，都寫在app run上方\n",
        "app.run()"
      ],
      "execution_count": null,
      "outputs": [
        {
          "output_type": "stream",
          "text": [
            " * Serving Flask app \"__main__\" (lazy loading)\n",
            " * Environment: production\n",
            "\u001b[31m   WARNING: This is a development server. Do not use it in a production deployment.\u001b[0m\n",
            "\u001b[2m   Use a production WSGI server instead.\u001b[0m\n",
            " * Debug mode: off\n"
          ],
          "name": "stdout"
        },
        {
          "output_type": "stream",
          "text": [
            " * Running on http://127.0.0.1:5000/ (Press CTRL+C to quit)\n"
          ],
          "name": "stderr"
        },
        {
          "output_type": "stream",
          "text": [
            " * Running on http://68ad13853248.ngrok.io\n",
            " * Traffic stats available on http://127.0.0.1:4040\n"
          ],
          "name": "stdout"
        },
        {
          "output_type": "stream",
          "text": [
            "127.0.0.1 - - [22/Jul/2021 15:48:12] \"\u001b[37mGET / HTTP/1.1\u001b[0m\" 200 -\n",
            "127.0.0.1 - - [22/Jul/2021 15:48:12] \"\u001b[33mGET /favicon.ico HTTP/1.1\u001b[0m\" 404 -\n"
          ],
          "name": "stderr"
        }
      ]
    },
    {
      "cell_type": "code",
      "metadata": {
        "id": "1tp8pb315Qq_"
      },
      "source": [
        "#接下來的東西都不會執行"
      ],
      "execution_count": null,
      "outputs": []
    }
  ]
}