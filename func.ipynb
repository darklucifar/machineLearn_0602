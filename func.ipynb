{
  "nbformat": 4,
  "nbformat_minor": 0,
  "metadata": {
    "colab": {
      "name": "func.ipynb",
      "provenance": [],
      "collapsed_sections": [],
      "authorship_tag": "ABX9TyPk10bOSALLIJ6kQqa+CoC9",
      "include_colab_link": true
    },
    "kernelspec": {
      "name": "python3",
      "display_name": "Python 3"
    },
    "language_info": {
      "name": "python"
    }
  },
  "cells": [
    {
      "cell_type": "markdown",
      "metadata": {
        "id": "view-in-github",
        "colab_type": "text"
      },
      "source": [
        "<a href=\"https://colab.research.google.com/github/darklucifar/machineLearn_0602/blob/main/func.ipynb\" target=\"_parent\"><img src=\"https://colab.research.google.com/assets/colab-badge.svg\" alt=\"Open In Colab\"/></a>"
      ]
    },
    {
      "cell_type": "code",
      "metadata": {
        "colab": {
          "base_uri": "https://localhost:8080/"
        },
        "id": "2uhdUutF6RCB",
        "outputId": "ecfa9ea0-86cc-44a7-ef7a-efa8baf6c6ec"
      },
      "source": [
        "int(4.5)\n",
        "# python: 所有東西皆為物件 -> 所有東西都有資料型態\n",
        "# 函式: int -> 步驟資料(SOP) (4.5): 執行並且帶入參數\n",
        "#      dic -> 字典資料      [key]: 操作\n",
        "a = int\n",
        "a(5.5)\n",
        "def test():\n",
        "    return int\n",
        "test()(7.5)"
      ],
      "execution_count": 3,
      "outputs": [
        {
          "output_type": "execute_result",
          "data": {
            "text/plain": [
              "7"
            ]
          },
          "metadata": {
            "tags": []
          },
          "execution_count": 3
        }
      ]
    },
    {
      "cell_type": "code",
      "metadata": {
        "colab": {
          "base_uri": "https://localhost:8080/"
        },
        "id": "fCwwWBzI8rXf",
        "outputId": "09990360-7d80-420c-9d82-f78c516bc6e5"
      },
      "source": [
        "#物件導向:https://www.learncodewithmike.com/2020/01/python-class.html\n",
        "#class類別:視為建構的圖紙\n",
        "#物件導向是自創資料型態，可以客製化自己想要的樣子。\n",
        "\n",
        "class Person:\n",
        "    ##init:進入點\n",
        "    def __init__(self, h, w):\n",
        "        self.height = h\n",
        "        self.weight = w\n",
        "\n",
        "    def calculate_bmi(self):\n",
        "        bmi = self.weight / (self.height / 100) ** 2\n",
        "        return bmi\n",
        "\n",
        "    ##前後兩個底線的函式代表你要特別小心這個函式，不要輕易的覆蓋，要想清楚。\n",
        "    def __str__(self):\n",
        "        return \"bmi:\" + str(self.calculate_bmi())\n",
        "\n",
        "    def __eq__(self, other):\n",
        "        print(\"here:\", self.height, other.height)\n",
        "        return self.height == other.height\n",
        "\n",
        "p1 = Person(175, 75)\n",
        "print(p1.calculate_bmi())\n",
        "p2 = Person(175, 80)\n",
        "print(p2.calculate_bmi())\n",
        "# print -> str(p1) -> p1.__str__()\n",
        "print(p1)\n",
        "# p1.__eq__(p2)\n",
        "print(p1 == p2)"
      ],
      "execution_count": 4,
      "outputs": [
        {
          "output_type": "stream",
          "text": [
            "24.489795918367346\n",
            "26.122448979591837\n",
            "bmi:24.489795918367346\n",
            "here: 175 175\n",
            "True\n"
          ],
          "name": "stdout"
        }
      ]
    }
  ]
}